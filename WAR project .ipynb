{
 "cells": [
  {
   "cell_type": "code",
   "execution_count": 1,
   "id": "4523cfc7-219c-46b5-a23b-6cfa7106c5be",
   "metadata": {},
   "outputs": [],
   "source": [
    "### card class \n",
    "## suit , rank , value   \n",
    "\n",
    "## deck \n",
    "### player\n",
    "\n",
    "import random\n",
    "suits=('hearts','diamond','speads','clubs')\n",
    "ranks=('two','three','four','five','six','seven','eight','nine','ten','jack','queen','king','ace')\n",
    "value={'two':2,'three':3, 'four':4,'five':5,'six':6,'seven':7,'eight':8,'nine':9,'ten':10,'jack':11,'queen':12,'king':13,'ace':14}\n"
   ]
  },
  {
   "cell_type": "code",
   "execution_count": 2,
   "id": "54c15df4-c566-4892-9817-8e81c7efd83e",
   "metadata": {},
   "outputs": [],
   "source": [
    "class card :\n",
    "    def __init__( self, suit, rank ):\n",
    "        self.suit=suit\n",
    "        self.rank = rank\n",
    "        self.value=value[rank]\n",
    "    def __str__ (self):\n",
    "        return self.rank + \" of \" + self.suit \n",
    "        \n",
    "    "
   ]
  },
  {
   "cell_type": "code",
   "execution_count": null,
   "id": "a925e76f-5743-4ed4-be20-0b61610dedd9",
   "metadata": {},
   "outputs": [],
   "source": []
  },
  {
   "cell_type": "code",
   "execution_count": 25,
   "id": "4ff07455-3ed2-4005-9d5a-2a02b142f520",
   "metadata": {},
   "outputs": [],
   "source": [
    "three_clubs=card(\"clubs\",\"ace\")\n",
    "    "
   ]
  },
  {
   "cell_type": "code",
   "execution_count": 4,
   "id": "098ec2d2-1eea-4667-a53a-25e2293aaa35",
   "metadata": {},
   "outputs": [],
   "source": [
    "#### deck"
   ]
  },
  {
   "cell_type": "raw",
   "id": "5c68ffe1-df4a-4f05-b254-6b3d983d0c07",
   "metadata": {},
   "source": [
    "## instatiate a new deck \n",
    "create all 52 card objects \n",
    "hold as a list of card objects \n",
    "shuffle a deck through a method call \n",
    "random library shuffle() function \n",
    "deal cards from the deck object \n",
    "pop method from cards list "
   ]
  },
  {
   "cell_type": "code",
   "execution_count": 5,
   "id": "ab034fa8-0042-4fda-af52-3608b94f3f3d",
   "metadata": {},
   "outputs": [],
   "source": [
    "class deck :\n",
    "    def __init__ (self):\n",
    "        \n",
    "        self.all_cards=[]\n",
    "        for suit  in suits :\n",
    "            for rank in ranks:\n",
    "                ## create the card object\n",
    "                created_card=card(suit,rank)\n",
    "                self.all_cards.append(created_card)\n",
    "    def shuffle (self):\n",
    "        \n",
    "        random.shuffle(self.all_cards)\n",
    "\n",
    "    def deal_one(self):\n",
    "        return self.all_cards.pop()"
   ]
  },
  {
   "cell_type": "code",
   "execution_count": 6,
   "id": "e796c352-846d-453b-be73-ebc99ba02225",
   "metadata": {},
   "outputs": [],
   "source": [
    "new_deck= deck()"
   ]
  },
  {
   "cell_type": "code",
   "execution_count": 7,
   "id": "92cef6c5-a73d-4269-a7e3-838138bc4f83",
   "metadata": {},
   "outputs": [],
   "source": [
    " first_card=new_deck.all_cards[0]"
   ]
  },
  {
   "cell_type": "code",
   "execution_count": 8,
   "id": "7eb26938-f7a1-473e-90bb-6ec985aa3578",
   "metadata": {},
   "outputs": [
    {
     "name": "stdout",
     "output_type": "stream",
     "text": [
      "two of hearts\n"
     ]
    }
   ],
   "source": [
    "print(first_card)"
   ]
  },
  {
   "cell_type": "code",
   "execution_count": 9,
   "id": "7dd71c18-c3c0-4ffc-99f5-d0d23f8d472a",
   "metadata": {},
   "outputs": [],
   "source": [
    "new_deck.shuffle()"
   ]
  },
  {
   "cell_type": "code",
   "execution_count": 10,
   "id": "aa79217e-5c75-45ae-bd8b-9088e83c34b6",
   "metadata": {},
   "outputs": [],
   "source": [
    "mycard=new_deck.deal_one()"
   ]
  },
  {
   "cell_type": "code",
   "execution_count": 11,
   "id": "4a66b106-caff-4e6f-823d-1dc1be63e7cf",
   "metadata": {},
   "outputs": [
    {
     "name": "stdout",
     "output_type": "stream",
     "text": [
      "five of speads\n"
     ]
    }
   ],
   "source": [
    "print(mycard)"
   ]
  },
  {
   "cell_type": "code",
   "execution_count": 12,
   "id": "5844af0d-b7d6-4652-9eda-8d905cdbb8bd",
   "metadata": {},
   "outputs": [
    {
     "data": {
      "text/plain": [
       "51"
      ]
     },
     "execution_count": 12,
     "metadata": {},
     "output_type": "execute_result"
    }
   ],
   "source": [
    "len(new_deck.all_cards)"
   ]
  },
  {
   "cell_type": "code",
   "execution_count": 13,
   "id": "6f994c20-85b3-45d9-95fc-03629c5123be",
   "metadata": {},
   "outputs": [
    {
     "name": "stdout",
     "output_type": "stream",
     "text": [
      "ten of speads\n"
     ]
    }
   ],
   "source": [
    "print(new_deck.all_cards[40])\n"
   ]
  },
  {
   "cell_type": "markdown",
   "id": "bb1bdd1d-2b3b-47ab-8e64-6af0ebc719dc",
   "metadata": {},
   "source": [
    "<p style:\"font-size:20px; color: black; \" > note=== if player adding multiple cards uses extend method() . \n"
   ]
  },
  {
   "cell_type": "code",
   "execution_count": 14,
   "id": "f2809394-ddc2-4561-8b36-e7d8c71507f0",
   "metadata": {},
   "outputs": [],
   "source": [
    "class player:\n",
    "    def __init__ (self,name):\n",
    "        self.name=name\n",
    "        self.all_cards=[]\n",
    "        \n",
    "    def remove_one(self):\n",
    "        return self.all_cards.pop(0)\n",
    "    def add_cards(self,new_cards):\n",
    "        \n",
    "        if type(new_cards)==type([]):\n",
    "            self.all_cards.extend(new_cards)\n",
    "        else:\n",
    "            self.all_cards.append(new_cards)\n",
    "    def __str__(self):\n",
    "        return f'player {self.name} has {len (self.all_cards)} cards. ' "
   ]
  },
  {
   "cell_type": "code",
   "execution_count": 15,
   "id": "e6d59986-45f9-4ee8-91df-27f2b3215bc2",
   "metadata": {},
   "outputs": [],
   "source": [
    "new_player=player('pramod')\n"
   ]
  },
  {
   "cell_type": "code",
   "execution_count": 16,
   "id": "46bd356b-52d3-4d9e-baca-c832a67cb44d",
   "metadata": {},
   "outputs": [
    {
     "name": "stdout",
     "output_type": "stream",
     "text": [
      "player pramod has 0 cards. \n"
     ]
    }
   ],
   "source": [
    "print(new_player)"
   ]
  },
  {
   "cell_type": "code",
   "execution_count": 17,
   "id": "99451707-8d93-4184-87d8-c4f6d95fb7e0",
   "metadata": {},
   "outputs": [],
   "source": [
    "new_player.add_cards([mycard,mycard,mycard])\n"
   ]
  },
  {
   "cell_type": "code",
   "execution_count": 18,
   "id": "f5657647-5ec4-45b7-a7d5-ca481d9de57b",
   "metadata": {},
   "outputs": [
    {
     "name": "stdout",
     "output_type": "stream",
     "text": [
      "player pramod has 3 cards. \n"
     ]
    }
   ],
   "source": [
    "print(new_player)\n"
   ]
  },
  {
   "cell_type": "code",
   "execution_count": 19,
   "id": "0edd12c1-5c3b-47bb-8423-59658f9b6686",
   "metadata": {},
   "outputs": [
    {
     "name": "stdout",
     "output_type": "stream",
     "text": [
      "five of speads\n"
     ]
    }
   ],
   "source": [
    "print(new_player.all_cards[2])"
   ]
  },
  {
   "cell_type": "code",
   "execution_count": 20,
   "id": "09106fdd-5227-4bd2-93ad-9db6ebd20f0b",
   "metadata": {},
   "outputs": [],
   "source": [
    "# GAME SETUP  \n",
    "player_one=player('one')\n",
    "player_two=player('two')\n",
    "new_deck=deck()\n",
    "new_deck.shuffle()\n",
    "\n",
    "\n",
    "for x in range (26):\n",
    "    player_one.add_cards(new_deck.deal_one())\n",
    "    player_two.add_cards(new_deck.deal_one())\n",
    "    \n"
   ]
  },
  {
   "cell_type": "code",
   "execution_count": 21,
   "id": "cc9a572b-4bb7-4380-ab4d-e9a596b57229",
   "metadata": {},
   "outputs": [
    {
     "name": "stdout",
     "output_type": "stream",
     "text": [
      "jack of hearts\n"
     ]
    }
   ],
   "source": [
    "print(player_one.all_cards[3])"
   ]
  },
  {
   "cell_type": "code",
   "execution_count": 22,
   "id": "0c5082dc-cfcd-4926-87bc-3bc0a552c4c9",
   "metadata": {},
   "outputs": [
    {
     "name": "stdout",
     "output_type": "stream",
     "text": [
      "nine of clubs\n"
     ]
    }
   ],
   "source": [
    "print(player_two.all_cards[5])"
   ]
  },
  {
   "cell_type": "code",
   "execution_count": 23,
   "id": "2d9f9884-124e-4586-8f76-ffef9e25fa1d",
   "metadata": {},
   "outputs": [],
   "source": [
    "game_on=True\n"
   ]
  },
  {
   "cell_type": "code",
   "execution_count": 24,
   "id": "1efdb874-2c9f-4740-881e-9ba5dd039a0f",
   "metadata": {},
   "outputs": [
    {
     "name": "stdout",
     "output_type": "stream",
     "text": [
      "round1\n",
      "round2\n",
      "round3\n",
      "round4\n",
      "round5\n",
      "round6\n",
      "round7\n",
      "round8\n",
      "round9\n",
      "war\n",
      "round10\n",
      "war\n",
      "round11\n",
      "round12\n",
      "round13\n",
      "round14\n",
      "round15\n",
      "round16\n",
      "round17\n",
      "round18\n",
      "round19\n",
      "round20\n",
      "round21\n",
      "round22\n",
      "round23\n",
      "round24\n",
      "round25\n",
      "round26\n",
      "round27\n",
      "round28\n",
      "round29\n",
      "round30\n",
      "round31\n",
      "round32\n",
      "round33\n",
      "round34\n",
      "round35\n",
      "round36\n",
      "round37\n",
      "round38\n",
      "round39\n",
      "round40\n",
      "round41\n",
      "round42\n",
      "round43\n",
      "round44\n",
      "round45\n",
      "round46\n",
      "round47\n",
      "round48\n",
      "round49\n",
      "round50\n",
      "round51\n",
      "round52\n",
      "round53\n",
      "round54\n",
      "round55\n",
      "round56\n",
      "round57\n",
      "round58\n",
      "round59\n",
      "round60\n",
      "round61\n",
      "war\n",
      "round62\n",
      "round63\n",
      "round64\n",
      "round65\n",
      "round66\n",
      "player is out of cards then player two wins \n"
     ]
    }
   ],
   "source": [
    "round_num=0\n",
    "\n",
    "while game_on:\n",
    "    round_num+=1\n",
    "    print(f'round{round_num}')\n",
    "\n",
    "    if len(player_one.all_cards )==0:\n",
    "        print(\"player is out of cards then player two wins \")\n",
    "        game_on=False \n",
    "        break \n",
    "    if len(player_two.all_cards )==0:\n",
    "        print(\"player is out of cards then player one wins \")\n",
    "        game_on=False \n",
    "        break \n",
    "\n",
    "## start a new rounds  \n",
    "    player_one_cards=[]\n",
    "    player_one_cards.append(player_one.remove_one())\n",
    "    \n",
    "    player_two_cards=[]\n",
    "    player_two_cards.append(player_two.remove_one())\n",
    "\n",
    "\n",
    "    at_war=True\n",
    "\n",
    "    while at_war:\n",
    "\n",
    "        if player_one_cards[-1].value>player_two_cards[-1].value:\n",
    "            player_one.add_cards(player_one_cards)\n",
    "            player_one.add_cards(player_two_cards)\n",
    "\n",
    "            at_war=False \n",
    "\n",
    "        elif player_one_cards[-1].value<player_two_cards[-1].value:\n",
    "            player_two.add_cards(player_two_cards)\n",
    "            player_two.add_cards(player_two_cards)\n",
    "\n",
    "            at_war=False \n",
    "\n",
    "\n",
    "        else:\n",
    "            print(\"war\")\n",
    "            if len(player_one.all_cards)<5:\n",
    "                print(\"player unable to declare war \")\n",
    "                print(\"playe two wins \")\n",
    "                game_on=False \n",
    "                break \n",
    "\n",
    "            elif len(player_two.all_cards)<5:\n",
    "                print(\"player unable to declare war \")\n",
    "                print(\"playe one wins \")\n",
    "                game_on=False \n",
    "                break             \n",
    "            else:\n",
    "                for num in range (3):\n",
    "                    player_one_cards.append(player_one.remove_one())\n",
    "                    player_two_cards.append(player_two.remove_one())\n",
    "                    \n",
    "        \n",
    "    "
   ]
  },
  {
   "cell_type": "code",
   "execution_count": null,
   "id": "a91a359d-b436-4df1-a2e7-02db733e7773",
   "metadata": {},
   "outputs": [],
   "source": [
    "    "
   ]
  },
  {
   "cell_type": "code",
   "execution_count": null,
   "id": "09927a60-5df5-4840-9f9f-7a3471797a0e",
   "metadata": {},
   "outputs": [],
   "source": []
  }
 ],
 "metadata": {
  "kernelspec": {
   "display_name": "Python 3 (ipykernel)",
   "language": "python",
   "name": "python3"
  },
  "language_info": {
   "codemirror_mode": {
    "name": "ipython",
    "version": 3
   },
   "file_extension": ".py",
   "mimetype": "text/x-python",
   "name": "python",
   "nbconvert_exporter": "python",
   "pygments_lexer": "ipython3",
   "version": "3.11.7"
  }
 },
 "nbformat": 4,
 "nbformat_minor": 5
}
