{
 "cells": [
  {
   "cell_type": "markdown",
   "id": "b8ff2d32-eccd-4510-bff3-79c3c49c8d5b",
   "metadata": {},
   "source": [
    "# game play "
   ]
  },
  {
   "cell_type": "raw",
   "id": "6e339323-d627-4b0f-8cb3-8f03390b792d",
   "metadata": {},
   "source": [
    "To play a hand of Blackjack the following steps must be followed:\n",
    "\n",
    "1.Create a deck of 52 cards\n",
    "2.Shuffle the deck\n",
    "3.Ask the Player for their bet\n",
    "4.Make sure that the Player's bet does not exceed their available chips\n",
    "5.Deal two cards to the Dealer and two cards to the Player\n",
    "6.Show only one of the Dealer's cards, the other remains hidden\n",
    "7.Show both of the Player's cards\n",
    "8.Ask the Player if they wish to Hit, and take another card\n",
    "9.If the Player's hand doesn't Bust (go over 21), ask if they'd like to Hit again.\n",
    "10.If a Player Stands, play the Dealer's hand. The dealer will always Hit until the Dealer's value meets or exceeds 17\n",
    "11.Determine the winner and adjust the Player's chips accordingly\n",
    "12.Ask the Player if they'd like to play again"
   ]
  },
  {
   "cell_type": "markdown",
   "id": "8c089397-af63-4029-a05f-b9352676bb22",
   "metadata": {},
   "source": [
    "## Step (1) : import random module to shuffle the deck . then declare variables to suit , rank and values . declare boolean value for while loop ."
   ]
  },
  {
   "cell_type": "code",
   "execution_count": 2,
   "id": "9b409293-905f-45e3-b27f-9dfe8b1ba8fd",
   "metadata": {},
   "outputs": [],
   "source": [
    "import random \n",
    "\n",
    "suits = ('Hearts', 'Diamonds', 'Spades', 'Clubs')\n",
    "ranks = ('Two', 'Three', 'Four', 'Five', 'Six', 'Seven', 'Eight', 'Nine', 'Ten', 'Jack', 'Queen', 'King', 'Ace')\n",
    "values = {'Two':2, 'Three':3, 'Four':4, 'Five':5, 'Six':6, 'Seven':7, 'Eight':8, 'Nine':9, 'Ten':10, 'Jack':10,\n",
    "         'Queen':10, 'King':10, 'Ace':11}\n",
    "playing = True "
   ]
  },
  {
   "cell_type": "markdown",
   "id": "1bcb7b42-83ce-4df2-95ac-43b24981b8a8",
   "metadata": {},
   "source": [
    "## Step(2) : then creating class card object to deal with suit and rank values . and __str__ method to to print a card in the format (two of hearts )"
   ]
  },
  {
   "cell_type": "code",
   "execution_count": 3,
   "id": "57378f3a-6ef6-43d5-8afe-60742ec97747",
   "metadata": {},
   "outputs": [],
   "source": [
    "class card :\n",
    "    def __init__(self):\n",
    "        self.rank=rank\n",
    "        self.suit=suit\n",
    "    def __str__(self):\n",
    "        return self.rank+'of'+self.suit "
   ]
  },
  {
   "cell_type": "markdown",
   "id": "d3eeae9c-9e79-4935-bbc4-f1a1d0417062",
   "metadata": {},
   "source": [
    "## Step 2: Create a deck Class .Here we might store 52 card objects in a list that can later be shuffled. First instantiating all 52 unique card objects and add them to  list. So long as the Card class definition appears in  code, we can build Card objects inside our Deck __init__ method. Consider iterating over sequences of suits and ranks to build out each card. This might appear inside a Deck class __init__ method:\n",
    "\n"
   ]
  },
  {
   "cell_type": "code",
   "execution_count": null,
   "id": "f775c9d0-94cc-48c5-ad37-1da2ed4b1e75",
   "metadata": {},
   "outputs": [],
   "source": [
    "class Deck:\n",
    "    \n",
    "    def __init__(self):\n",
    "        self.deck = []  # start with an empty list\n",
    "        for suit in suits:\n",
    "            for rank in ranks:\n",
    "                self.deck.append(Card(suit,rank))  # build Card objects and add them to the list\n",
    "    \n",
    "    def __str__(self):\n",
    "        deck_comp = ''  # start with an empty string\n",
    "        for card in self.deck:\n",
    "            deck_comp += '\\n '+card.__str__() # add each Card object's print string\n",
    "        return 'The deck has:' + deck_comp\n",
    "\n",
    "    def shuffle(self):\n",
    "        random.shuffle(self.deck)\n",
    "\n",
    "    def deal(self):\n",
    "        single_card=self.deck.pop()\n",
    "        return single_card \n",
    "        \n",
    "   "
   ]
  },
  {
   "cell_type": "markdown",
   "id": "fbc597ce-987d-4de3-9d83-6bfa76a59b39",
   "metadata": {},
   "source": [
    "## Step 4: Create a Hand Class\n",
    "In addition to holding Card objects dealt from the Deck, the Hand class may be used to calculate the value of those cards using the values dictionary defined above. It may also need to adjust for the value of Aces when appropriate.\n",
    "\n"
   ]
  },
  {
   "cell_type": "code",
   "execution_count": null,
   "id": "6bc8cbae-d3d0-45d3-8ba5-af2c8924d309",
   "metadata": {},
   "outputs": [],
   "source": [
    "class Hand:\n",
    "    def __init__(self):\n",
    "        self.cards = []  # start with an empty list as we did in the Deck class\n",
    "        self.value = 0   # start with zero value\n",
    "        self.aces = 0    # add an attribute to keep track of aces\n",
    "    \n",
    "    def add_card(self,card):\n",
    "        self.cards.append(card)\n",
    "        self.value += values[card.rank]\n",
    "    \n",
    "    def adjust_for_ace(self):\n",
    "        pass"
   ]
  },
  {
   "cell_type": "markdown",
   "id": "aeb38b84-57f7-4317-bb96-c7328c6abe1e",
   "metadata": {},
   "source": [
    " ## If a hand's value exceeds 21 but it contains an Ace, we can reduce the Ace's value from 11 to 1 and continue playing."
   ]
  },
  {
   "cell_type": "code",
   "execution_count": null,
   "id": "ead7645d-01b5-4b50-802e-8f3faf2dd9a4",
   "metadata": {},
   "outputs": [],
   "source": [
    "class Hand:\n",
    "    \n",
    "    def __init__(self):\n",
    "        self.cards = []  # start with an empty list as we did in the Deck class\n",
    "        self.value = 0   # start with zero value\n",
    "        self.aces = 0    # add an attribute to keep track of aces\n",
    "    \n",
    "    def add_card(self,card):\n",
    "        self.cards.append(card)\n",
    "        self.value += values[card.rank]\n",
    "        if card.rank == 'Ace':\n",
    "            self.aces += 1  # add to self.aces\n",
    "    \n",
    "    def adjust_for_ace(self):\n",
    "        while self.value > 21 and self.aces:\n",
    "            self.value -= 10\n",
    "            self.aces -= 1 "
   ]
  },
  {
   "cell_type": "markdown",
   "id": "a0c5cd90-4a6b-4d3b-95ff-366544c7783c",
   "metadata": {},
   "source": [
    "## Step 5: Create a Chips Class\n",
    "In addition to decks of cards and hands, we need to keep track of a Player's starting chips, bets, and ongoing winnings. \n"
   ]
  },
  {
   "cell_type": "code",
   "execution_count": null,
   "id": "f08e0ede-9a08-48a1-95da-164a09a24e98",
   "metadata": {},
   "outputs": [],
   "source": [
    "class Chips:\n",
    "    \n",
    "    def __init__(self):\n",
    "        self.total = 100  # This can be set to a default value or supplied by a user input\n",
    "        self.bet = 0\n",
    "        \n",
    "    def win_bet(self):\n",
    "        self.total += self.bet\n",
    "    \n",
    "    def lose_bet(self):\n",
    "        self.total -= self.bet"
   ]
  },
  {
   "cell_type": "markdown",
   "id": "ca2beeb1-e7e3-4eb0-b666-0bf536d48be6",
   "metadata": {},
   "source": [
    "## Step 6: Write a function for taking bets\n",
    "Since we're asking the user for an integer value, this would be a good place to use try/except. \n",
    "\n"
   ]
  },
  {
   "cell_type": "code",
   "execution_count": null,
   "id": "e9838c2b-be17-45ea-9ab4-d649466c3909",
   "metadata": {},
   "outputs": [],
   "source": [
    "def take_bet(chips):\n",
    "    \n",
    "    while True:\n",
    "        try:\n",
    "            chips.bet = int(input('How many chips would you like to bet? '))\n",
    "        except ValueError:\n",
    "            print('Sorry, a bet must be an integer!')\n",
    "        else:\n",
    "            if chips.bet > chips.total:\n",
    "                print(\"Sorry, your bet can't exceed\",chips.total)\n",
    "            else:\n",
    "                break"
   ]
  },
  {
   "cell_type": "markdown",
   "id": "9c909d85-d4ca-44c1-8978-6e6ad2c8e419",
   "metadata": {},
   "source": [
    "## Step 7: Writing a function for taking hits\n",
    " This function will be called during gameplay anytime a Player requests a hit, or a Dealer's hand is less than 17. It should take in Deck and Hand objects as arguments, and deal one card off the deck and add it to the Hand. You may want it to check for aces in the event that a player's hand exceeds 21."
   ]
  },
  {
   "cell_type": "code",
   "execution_count": null,
   "id": "c7dcb91f-5348-4b7f-9bf4-caa187fe4d9c",
   "metadata": {},
   "outputs": [],
   "source": [
    "def hit(deck,hand):\n",
    "    \n",
    "    hand.add_card(deck.deal())\n",
    "    hand.adjust_for_ace()"
   ]
  },
  {
   "cell_type": "markdown",
   "id": "927f1fc8-fdfb-4a1e-b2a8-8d0a622e543c",
   "metadata": {},
   "source": [
    "## Step 8: Writeing a function prompting the Player to Hit or Stand\n",
    "This function should accept the deck and the player's hand as arguments, and assign playing as a global variable.\n",
    "If the Player Hits, employ the hit() function above. If the Player Stands, set the playing variable to False - this will control the behavior of a while loop later on in the code."
   ]
  },
  {
   "cell_type": "code",
   "execution_count": null,
   "id": "73051fa6-b2df-472b-94c1-a9639c732808",
   "metadata": {},
   "outputs": [],
   "source": [
    "def hit_or_stand(deck,hand):\n",
    "    global playing  # to control an upcoming while loop\n",
    "    \n",
    "    while True:\n",
    "        x = input(\"Would you like to Hit or Stand? Enter 'h' or 's' \")\n",
    "        \n",
    "        if x[0].lower() == 'h':\n",
    "            hit(deck,hand)  # hit() function defined above\n",
    "\n",
    "        elif x[0].lower() == 's':\n",
    "            print(\"Player stands. Dealer is playing.\")\n",
    "            playing = False\n",
    "\n",
    "        else:\n",
    "            print(\"Sorry, please try again.\")\n",
    "            continue\n",
    "        break"
   ]
  },
  {
   "cell_type": "markdown",
   "id": "f63421df-128e-4faa-ac9f-ae9abdbc7759",
   "metadata": {},
   "source": [
    "## Step 9: Writeing functions to display cards\n",
    "When the game starts, and after each time Player takes a card, the dealer's first card is hidden and all of Player's cards are visible. At the end of the hand all cards are shown, and you may want to show each hand's total value. Writeing a function for each of these scenarios."
   ]
  },
  {
   "cell_type": "code",
   "execution_count": null,
   "id": "08f5f9f3-4dc2-4fc5-87f9-07a456ba5caa",
   "metadata": {},
   "outputs": [],
   "source": [
    "def show_some(player,dealer):\n",
    "    print(\"\\nDealer's Hand:\")\n",
    "    print(\" <card hidden>\")\n",
    "    print('',dealer.cards[1])  \n",
    "    print(\"\\nPlayer's Hand:\", *player.cards, sep='\\n ')\n",
    "    \n",
    "def show_all(player,dealer):\n",
    "    print(\"\\nDealer's Hand:\", *dealer.cards, sep='\\n ')\n",
    "    print(\"Dealer's Hand =\",dealer.value)\n",
    "    print(\"\\nPlayer's Hand:\", *player.cards, sep='\\n ')\n",
    "    print(\"Player's Hand =\",player.value)"
   ]
  },
  {
   "cell_type": "markdown",
   "id": "1b08bb7e-3d64-4ce4-b18a-257889403fe4",
   "metadata": {},
   "source": [
    "## Step 10: Write functions to handle end of game....."
   ]
  },
  {
   "cell_type": "code",
   "execution_count": null,
   "id": "b0518120-0646-4418-a753-462e44c2beea",
   "metadata": {},
   "outputs": [],
   "source": [
    "def player_busts(player,dealer,chips):\n",
    "    print(\"Player busts!\")\n",
    "    chips.lose_bet()\n",
    "\n",
    "def player_wins(player,dealer,chips):\n",
    "    print(\"Player wins!\")\n",
    "    chips.win_bet()\n",
    "\n",
    "def dealer_busts(player,dealer,chips):\n",
    "    print(\"Dealer busts!\")\n",
    "    chips.win_bet()\n",
    "    \n",
    "def dealer_wins(player,dealer,chips):\n",
    "    print(\"Dealer wins!\")\n",
    "    chips.lose_bet()\n",
    "    \n",
    "def push(player,dealer):\n",
    "    print(\"Dealer and Player tie! It's a push.\")"
   ]
  },
  {
   "cell_type": "markdown",
   "id": "55c60fe3-d5d0-4159-b62d-22ae04e18917",
   "metadata": {},
   "source": [
    "# And now on to the game!!"
   ]
  },
  {
   "cell_type": "code",
   "execution_count": null,
   "id": "3897a731-3208-436c-ab17-342a2e2c622e",
   "metadata": {},
   "outputs": [],
   "source": [
    "while True:\n",
    "    \n",
    "    print('Welcome to BlackJack! Get as close to 21 as you can without going over!\\n\\\n",
    "    Dealer hits until she reaches 17. Aces count as 1 or 11.')\n",
    "    \n",
    "    \n",
    "    deck = Deck()\n",
    "    deck.shuffle()\n",
    "    \n",
    "    player_hand = Hand()\n",
    "    player_hand.add_card(deck.deal())\n",
    "    player_hand.add_card(deck.deal())\n",
    "    \n",
    "    dealer_hand = Hand()\n",
    "    dealer_hand.add_card(deck.deal())\n",
    "    dealer_hand.add_card(deck.deal())\n",
    "            \n",
    "    \n",
    "    player_chips = Chips()  #  the default value is 100    \n",
    "    \n",
    "    \n",
    "    take_bet(player_chips)\n",
    "    \n",
    "    \n",
    "    show_some(player_hand,dealer_hand)\n",
    "    \n",
    "    while playing: \n",
    "        \n",
    "     \n",
    "        hit_or_stand(deck,player_hand) \n",
    "        \n",
    "    \n",
    "        show_some(player_hand,dealer_hand)  \n",
    "        \n",
    "        \n",
    "        if player_hand.value > 21:\n",
    "            player_busts(player_hand,dealer_hand,player_chips)\n",
    "            break        \n",
    "\n",
    "\n",
    "    \n",
    "    if player_hand.value <= 21:\n",
    "        \n",
    "        while dealer_hand.value < 17:\n",
    "            hit(deck,dealer_hand)    \n",
    "    \n",
    "\n",
    "        show_all(player_hand,dealer_hand)\n",
    "        \n",
    "\n",
    "        if dealer_hand.value > 21:\n",
    "            dealer_busts(player_hand,dealer_hand,player_chips)\n",
    "\n",
    "        elif dealer_hand.value > player_hand.value:\n",
    "            dealer_wins(player_hand,dealer_hand,player_chips)\n",
    "\n",
    "        elif dealer_hand.value < player_hand.value:\n",
    "            player_wins(player_hand,dealer_hand,player_chips)\n",
    "\n",
    "        else:\n",
    "            push(player_hand,dealer_hand)        \n",
    "    \n",
    "     \n",
    "    print(\"\\nPlayer's winnings stand at\",player_chips.total)\n",
    "    \n",
    "\n",
    "    new_game = input(\"Would you like to play another hand? Enter 'y' or 'n' \")\n",
    "    \n",
    "    if new_game[0].lower()=='y':\n",
    "        playing=True\n",
    "        continue\n",
    "    else:\n",
    "        print(\"Thanks for playing!\")\n",
    "        break"
   ]
  }
 ],
 "metadata": {
  "kernelspec": {
   "display_name": "Python 3 (ipykernel)",
   "language": "python",
   "name": "python3"
  },
  "language_info": {
   "codemirror_mode": {
    "name": "ipython",
    "version": 3
   },
   "file_extension": ".py",
   "mimetype": "text/x-python",
   "name": "python",
   "nbconvert_exporter": "python",
   "pygments_lexer": "ipython3",
   "version": "3.11.7"
  }
 },
 "nbformat": 4,
 "nbformat_minor": 5
}
