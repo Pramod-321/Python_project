{
 "cells": [
  {
   "cell_type": "markdown",
   "id": "b4eb4be1-bbba-4fda-8359-3e56ca764fca",
   "metadata": {},
   "source": [
    "# TIC TAC TOE "
   ]
  },
  {
   "cell_type": "markdown",
   "id": "758422ba-0f72-4d87-930c-61c0bc7157b3",
   "metadata": {
    "jp-MarkdownHeadingCollapsed": true
   },
   "source": [
    "## step: 1 function to print tic tac toe  board "
   ]
  },
  {
   "cell_type": "code",
   "execution_count": 19,
   "id": "c5fe4a98-4b1d-4897-a8dc-4a3bcfa5541c",
   "metadata": {},
   "outputs": [],
   "source": [
    "from IPython.display import clear_output\n",
    "\n",
    "def display_board(board):\n",
    "    clear_output()  # Remember, this only works in jupyter!pramodmore\n",
    "                                                                \n",
    "   \n",
    "    print(' ' + board[7] + ' | ' + board[8] + ' | ' + board[9])\n",
    "   \n",
    "    print('-----------')\n",
    "  \n",
    "    print(' ' + board[4] + ' | ' + board[5] + ' | ' + board[6])\n",
    "\n",
    "    print('-----------')\n",
    "\n",
    "    print(' ' + board[1] + ' | ' + board[2] + ' | ' + board[3])\n",
    "   "
   ]
  },
  {
   "cell_type": "code",
   "execution_count": 20,
   "id": "ffc1f39a-d194-4e85-8a75-4b8dc24e6407",
   "metadata": {},
   "outputs": [
    {
     "name": "stdout",
     "output_type": "stream",
     "text": [
      " x | o | x\n",
      "-----------\n",
      " 0 | x | 0\n",
      "-----------\n",
      " x | 0 | x\n"
     ]
    }
   ],
   "source": [
    "test_board = [ '#','x','0','x','0','x','0','x','o','x' ]\n",
    "display_board(test_board)"
   ]
  },
  {
   "cell_type": "markdown",
   "id": "15d37299-4733-470c-9537-9afb8edf8684",
   "metadata": {
    "jp-MarkdownHeadingCollapsed": true
   },
   "source": [
    "## step: (2) function to take a player input and assign their marker as 'x' or 'o' ."
   ]
  },
  {
   "cell_type": "code",
   "execution_count": 21,
   "id": "4a9536d3-508a-4754-b549-78c100acf077",
   "metadata": {},
   "outputs": [],
   "source": [
    "def player_input():\n",
    "    marker = '' \n",
    "    while  not (marker == 'X' or marker=='O' ) :\n",
    "        marker = input('player 1 : do you want to X or O ? ' ).upper()\n",
    "    if marker== 'X':\n",
    "        return ('X','O')\n",
    "    else :\n",
    "        return ('O','X')\n",
    "    \n",
    "    "
   ]
  },
  {
   "cell_type": "code",
   "execution_count": 22,
   "id": "19a7f258-afd7-489e-b51d-f9523546b392",
   "metadata": {},
   "outputs": [
    {
     "name": "stdin",
     "output_type": "stream",
     "text": [
      "player 1 : do you want to X or O ?  X\n"
     ]
    },
    {
     "data": {
      "text/plain": [
       "('X', 'O')"
      ]
     },
     "execution_count": 22,
     "metadata": {},
     "output_type": "execute_result"
    }
   ],
   "source": [
    "player_input()"
   ]
  },
  {
   "cell_type": "markdown",
   "id": "7dc60a19-9a24-41f5-8323-ff4ad007ac8d",
   "metadata": {
    "jp-MarkdownHeadingCollapsed": true
   },
   "source": [
    "## Step (3) : function that can assign a marker( X or O ) in desired position(1-9)"
   ]
  },
  {
   "cell_type": "code",
   "execution_count": 23,
   "id": "6ea04705-2a50-4db5-b066-04bcc85a45ed",
   "metadata": {},
   "outputs": [],
   "source": [
    "def place_marker ( board ,  marker ,position ) :\n",
    "    board[position] = marker"
   ]
  },
  {
   "cell_type": "code",
   "execution_count": 24,
   "id": "1b3f9f32-a494-466e-89a5-7ccdd2f06e26",
   "metadata": {},
   "outputs": [
    {
     "name": "stdout",
     "output_type": "stream",
     "text": [
      " x | p | x\n",
      "-----------\n",
      " 0 | x | 0\n",
      "-----------\n",
      " x | 0 | x\n"
     ]
    }
   ],
   "source": [
    "place_marker( test_board , 'p',8)\n",
    "display_board(test_board)"
   ]
  },
  {
   "cell_type": "code",
   "execution_count": 25,
   "id": "6618e20c",
   "metadata": {},
   "outputs": [
    {
     "name": "stdout",
     "output_type": "stream",
     "text": [
      " x | X | x\n",
      "-----------\n",
      " 0 | x | 0\n",
      "-----------\n",
      " x | 0 | x\n"
     ]
    }
   ],
   "source": [
    "place_marker( test_board , 'X',8)\n",
    "display_board(test_board)"
   ]
  },
  {
   "cell_type": "markdown",
   "id": "9a273fbe-8cfc-42e4-93de-5460e8c1c204",
   "metadata": {
    "jp-MarkdownHeadingCollapsed": true
   },
   "source": [
    "## step (4) : fuction that can check to see if someone has won or not "
   ]
  },
  {
   "cell_type": "code",
   "execution_count": 26,
   "id": "666fe19d-c68f-4ac3-847c-b3dd8453899e",
   "metadata": {},
   "outputs": [],
   "source": [
    "def win_check(board,mark):\n",
    "    \n",
    "    return ((board[7] == mark and board[8] == mark and board[9] == mark) or # across the top\n",
    "    (board[4] == mark and board[5] == mark and board[6] == mark) or # across the middle\n",
    "    (board[1] == mark and board[2] == mark and board[3] == mark) or # across the bottom\n",
    "    (board[7] == mark and board[4] == mark and board[1] == mark) or # down the middle\n",
    "    (board[8] == mark and board[5] == mark and board[2] == mark) or # down the middle\n",
    "    (board[9] == mark and board[6] == mark and board[3] == mark) or # down the right side\n",
    "    (board[7] == mark and board[5] == mark and board[3] == mark) or # diagonal\n",
    "    (board[9] == mark and board[5] == mark and board[1] == mark)) # diagonal"
   ]
  },
  {
   "cell_type": "code",
   "execution_count": 27,
   "id": "1ee66c6f-b474-4e47-9ab7-166a2463803b",
   "metadata": {},
   "outputs": [
    {
     "data": {
      "text/plain": [
       "False"
      ]
     },
     "execution_count": 27,
     "metadata": {},
     "output_type": "execute_result"
    }
   ],
   "source": [
    "win_check(test_board,'X')"
   ]
  },
  {
   "cell_type": "markdown",
   "id": "b0a1d9d1-6984-4fd3-a762-aa3ed643263a",
   "metadata": {
    "jp-MarkdownHeadingCollapsed": true
   },
   "source": [
    "## Step (5) : fuction that can choose which player should go first *** "
   ]
  },
  {
   "cell_type": "code",
   "execution_count": 28,
   "id": "0c2d8af0-ea2a-44c6-9ab8-3c84219593a0",
   "metadata": {},
   "outputs": [],
   "source": [
    "import random \n",
    "def first_player():\n",
    "    if random.randint(0,1)==0:\n",
    "        return 'player 2 '\n",
    "    else : \n",
    "        return ' player 1 '"
   ]
  },
  {
   "cell_type": "markdown",
   "id": "41de73f5-81ee-40a3-83b9-a3ffcbad7ff9",
   "metadata": {
    "jp-MarkdownHeadingCollapsed": true
   },
   "source": [
    "## Step (6) : fuction that can check space is avaliable or not"
   ]
  },
  {
   "cell_type": "code",
   "execution_count": 30,
   "id": "644cd77f-7207-4df4-9e1e-6aad4f17ccfc",
   "metadata": {},
   "outputs": [],
   "source": [
    "def space_check(board,position ):\n",
    "\n",
    "    return board[position] ==' ' "
   ]
  },
  {
   "cell_type": "markdown",
   "id": "dc4885e0-2fdd-49f7-a52b-73dcadaeb3f1",
   "metadata": {
    "jp-MarkdownHeadingCollapsed": true
   },
   "source": [
    "## Step (7) : fucttion that checks board is full . if full returns True or otherwise false "
   ]
  },
  {
   "cell_type": "code",
   "execution_count": 31,
   "id": "c8eca88d-f378-4a4e-89d0-e058d64b2d1a",
   "metadata": {},
   "outputs": [],
   "source": [
    "def full_board_check(board):\n",
    "    for i in range(1,10):\n",
    "        if space_check(board,i):\n",
    "            return False \n",
    "    return True \n"
   ]
  },
  {
   "cell_type": "markdown",
   "id": "87a77b23-aeae-4ff2-9a4a-eb05bdc78426",
   "metadata": {
    "jp-MarkdownHeadingCollapsed": true
   },
   "source": [
    "## Step (8) : fuction that ask for player for there next position (1-9) . then uses function (space_check ) to check avaliable space . "
   ]
  },
  {
   "cell_type": "code",
   "execution_count": 33,
   "id": "cf8c9e08-2144-4f5d-8296-32816146f416",
   "metadata": {},
   "outputs": [],
   "source": [
    "def player_choice(board):\n",
    "    position = 0 \n",
    "\n",
    "    while position not in [ 1,2,3,4,5,6,7,8,9] or not space_check(board,position):\n",
    "        position=int(input('choose your next position : (1-9) '))\n",
    "    return position\n",
    "    "
   ]
  },
  {
   "cell_type": "markdown",
   "id": "4337e46d-00c6-4a98-8567-29896e05286f",
   "metadata": {
    "jp-MarkdownHeadingCollapsed": true
   },
   "source": [
    "## Step (9) : function that asks for player if they want to play_again....."
   ]
  },
  {
   "cell_type": "code",
   "execution_count": 35,
   "id": "0e633b61-f169-4879-85e0-268d80f01cb8",
   "metadata": {},
   "outputs": [],
   "source": [
    "def play_again ():\n",
    "\n",
    "    return ('Do you want to play again or not :  Enter yes or not ').lower().startswith('y')"
   ]
  },
  {
   "cell_type": "markdown",
   "id": "1aa2f695-8b5b-45d3-87e7-cec8ffe0a02d",
   "metadata": {
    "jp-MarkdownHeadingCollapsed": true
   },
   "source": [
    "# Step (10) : using while loop and function to run the game "
   ]
  },
  {
   "cell_type": "code",
   "execution_count": null,
   "id": "a28eacf6-ddb6-4c53-9d92-725f4b809cc2",
   "metadata": {},
   "outputs": [],
   "source": [
    "print('welcome to TAC TAC TOE ')\n",
    "\n",
    "while True :\n",
    "\n",
    "    # reset the board \n",
    "    theboard = [ ' ' ] * 10 \n",
    "    player1_marker,player2_marker = player_input()\n",
    "    turn = first_player()\n",
    "    print(turn + 'will go first .')\n",
    "\n",
    "    play_game = input( 'are you ready to play? enter Yes or No . ')\n",
    "\n",
    "    if play_game.lower()[0]=='y':\n",
    "        game_on= True\n",
    "    else:\n",
    "        game_on= False \n",
    "\n",
    "    while game_on :\n",
    "        if turn == 'player 1 ' :\n",
    "            # player1 turn\n",
    "            display_board (theboard)\n",
    "            position = player_choice(theboard)\n",
    "            place_marker(theboard,player1_marker,position)\n",
    "\n",
    "            if win_check(theboard,player1_marker):\n",
    "                display_board(theboard)\n",
    "                print('Congratulation ! You have won the game ')\n",
    "                game_on = False \n",
    "            else:\n",
    "                if full_board_check(theboard):\n",
    "                    display_board(theboard)\n",
    "                    print('The game is a draw ! ')\n",
    "                    break \n",
    "                else :\n",
    "                    turn='player 2 '\n",
    "        else:\n",
    "            # player 2 turn\n",
    "            display_board(theboard)\n",
    "            position = player_choice(theboard)\n",
    "            place_marker(theboard,player2_marker,position)\n",
    "\n",
    "            if win_check(theboard,player2_marker):\n",
    "                display_board(theboard)\n",
    "                print('Player 2 has won ')\n",
    "                game_on = False \n",
    "            else : \n",
    "                if full_board_check(theboard):\n",
    "                    display_board(theboard)\n",
    "                    print('The game is a draw ! ')\n",
    "                    break \n",
    "                else:\n",
    "                    turn = 'player 1'\n",
    "    if not play_again():\n",
    "        break \n"
   ]
  },
  {
   "cell_type": "code",
   "execution_count": null,
   "id": "e150a9b9-99ab-4b0e-b6b5-f5d820c9f95c",
   "metadata": {},
   "outputs": [],
   "source": []
  }
 ],
 "metadata": {
  "kernelspec": {
   "display_name": "Python 3 (ipykernel)",
   "language": "python",
   "name": "python3"
  },
  "language_info": {
   "codemirror_mode": {
    "name": "ipython",
    "version": 3
   },
   "file_extension": ".py",
   "mimetype": "text/x-python",
   "name": "python",
   "nbconvert_exporter": "python",
   "pygments_lexer": "ipython3",
   "version": "3.11.7"
  }
 },
 "nbformat": 4,
 "nbformat_minor": 5
}
