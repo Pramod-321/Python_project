{
 "cells": [
  {
   "cell_type": "markdown",
   "id": "2be13978-53bc-40f4-a42c-679cfa0a7a6f",
   "metadata": {},
   "source": [
    "### validating user input "
   ]
  },
  {
   "cell_type": "code",
   "execution_count": 4,
   "id": "9605f7ea-7669-457f-955b-1ed0f67c3417",
   "metadata": {},
   "outputs": [],
   "source": [
    "def user_choice ():\n",
    "    choice='wrong'\n",
    "    acceptable_range=range(0,10)\n",
    "    within_range=False\n",
    "\n",
    "    while choice.isdigit()==False or within_range==False :\n",
    "        choice=input('please enter the number between (0-10) ')\n",
    "\n",
    "        if choice.isdigit()==True:\n",
    "            if int(choice)in acceptable_range:\n",
    "                within_range=True\n",
    "            else:\n",
    "                within_range=False \n",
    "    return int(choice)"
   ]
  },
  {
   "cell_type": "code",
   "execution_count": 5,
   "id": "2d7d17ed-25f8-4aae-b069-2fb7b921ac60",
   "metadata": {},
   "outputs": [
    {
     "name": "stdin",
     "output_type": "stream",
     "text": [
      "please enter the number between (0-10)  2\n"
     ]
    },
    {
     "data": {
      "text/plain": [
       "2"
      ]
     },
     "execution_count": 5,
     "metadata": {},
     "output_type": "execute_result"
    }
   ],
   "source": [
    "user_choice()"
   ]
  },
  {
   "cell_type": "code",
   "execution_count": 6,
   "id": "88570ae7-bb9b-4e2f-8112-6e89c6e8fc7e",
   "metadata": {},
   "outputs": [],
   "source": [
    "def user_choice ():\n",
    "    choice='wrong'\n",
    "    acceptable_range=range(0,10)\n",
    "    within_range=False\n",
    "\n",
    "    if choice.isdigit()==True:\n",
    "            if int(choice)in acceptable_range:\n",
    "                within_range=True\n",
    "            else:\n",
    "                within_range=False \n",
    "       \n",
    "        \n",
    "    choice=input('please enter the number between (0-10) ')\n",
    "\n",
    "    return int(choice)"
   ]
  },
  {
   "cell_type": "raw",
   "id": "6727c420-1906-407c-9ef0-c88a34168720",
   "metadata": {},
   "source": []
  },
  {
   "cell_type": "code",
   "execution_count": 7,
   "id": "4807107e-4b81-4c3c-b18c-93216530c42b",
   "metadata": {},
   "outputs": [
    {
     "name": "stdin",
     "output_type": "stream",
     "text": [
      "please enter the number between (0-10)  1\n"
     ]
    },
    {
     "data": {
      "text/plain": [
       "1"
      ]
     },
     "execution_count": 7,
     "metadata": {},
     "output_type": "execute_result"
    }
   ],
   "source": [
    "user_choice()"
   ]
  },
  {
   "cell_type": "code",
   "execution_count": 1,
   "id": "b82668ba-4ef0-4247-8175-3075f917bfb6",
   "metadata": {},
   "outputs": [],
   "source": [
    "game_list=[0,1,2]"
   ]
  },
  {
   "cell_type": "code",
   "execution_count": 2,
   "id": "ffcf5dcd-f433-43e7-b3ee-7ac8a5d28f27",
   "metadata": {},
   "outputs": [],
   "source": [
    "def display_game (game_list):\n",
    "    print('here is the current list:')\n",
    "    print(game_list)\n",
    "    "
   ]
  },
  {
   "cell_type": "code",
   "execution_count": 3,
   "id": "ad368014-d3af-4a52-b06a-d0e04e8a7691",
   "metadata": {},
   "outputs": [
    {
     "name": "stdout",
     "output_type": "stream",
     "text": [
      "here is the current list:\n",
      "[0, 1, 2]\n"
     ]
    }
   ],
   "source": [
    "display_game (game_list)"
   ]
  },
  {
   "cell_type": "code",
   "execution_count": 4,
   "id": "f07a6d39-1dd7-4ee8-a4d4-3a78f0007357",
   "metadata": {},
   "outputs": [],
   "source": [
    "def position_choice():\n",
    "    choice='wrong'\n",
    "    while choice not in ['0','1','2'] :\n",
    "        \n",
    "        choice=input('pick choice from the 0,1,2:')\n",
    "        if choice not in ['0','1','2'] :\n",
    "            \n",
    "            \n",
    "            print(\"your chice is not in valid\")\n",
    "\n",
    "\n",
    "    return int(choice)\n",
    "    \n"
   ]
  },
  {
   "cell_type": "code",
   "execution_count": 5,
   "id": "98e394c4-667f-4753-b10c-a742d0fb2b76",
   "metadata": {},
   "outputs": [
    {
     "name": "stdin",
     "output_type": "stream",
     "text": [
      "pick choice from the 0,1,2: 1\n"
     ]
    },
    {
     "data": {
      "text/plain": [
       "1"
      ]
     },
     "execution_count": 5,
     "metadata": {},
     "output_type": "execute_result"
    }
   ],
   "source": [
    "position_choice()\n"
   ]
  },
  {
   "cell_type": "markdown",
   "id": "8ea27e00-a5f2-443c-80b5-cc86906e0a51",
   "metadata": {},
   "source": [
    "position_choice()"
   ]
  },
  {
   "cell_type": "code",
   "execution_count": 6,
   "id": "85356374-be2a-4362-8d4c-0d78aeb98be2",
   "metadata": {},
   "outputs": [],
   "source": [
    "def replacement_choice(game_list,position):\n",
    "    user_replacement=input(\"type a string to place at position \")\n",
    "    game_list[position]=user_replacement\n",
    "\n",
    "    return game_list"
   ]
  },
  {
   "cell_type": "code",
   "execution_count": 7,
   "id": "c5f5abca-2d1a-45ef-b527-8777cc64df39",
   "metadata": {},
   "outputs": [
    {
     "name": "stdin",
     "output_type": "stream",
     "text": [
      "type a string to place at position  pramod\n"
     ]
    },
    {
     "data": {
      "text/plain": [
       "['pramod', 1, 2]"
      ]
     },
     "execution_count": 7,
     "metadata": {},
     "output_type": "execute_result"
    }
   ],
   "source": [
    "replacement_choice(game_list,0)\n"
   ]
  },
  {
   "cell_type": "code",
   "execution_count": 8,
   "id": "5d8a6e4e-e497-4244-9e87-a65f6ca09a1e",
   "metadata": {},
   "outputs": [],
   "source": [
    "def gameon_choice():\n",
    "    choice='wrong'\n",
    "    while choice not in ['yes','no'] :\n",
    "        \n",
    "        choice=input('pick choice from the yes or no :')\n",
    "        if choice not in ['yes','no'] :\n",
    "\n",
    "    if choice=='yes':\n",
    "        return True\n",
    "    else:\n",
    "        return False \n",
    "    \n",
    "            \n",
    "            \n",
    "            print(\"sorrt i am not uderstand please choose from the yes or no \")\n",
    "            \n"
   ]
  },
  {
   "cell_type": "code",
   "execution_count": 9,
   "id": "f5137bd8-e216-4b22-b4cd-8f8c84c30305",
   "metadata": {},
   "outputs": [
    {
     "name": "stdin",
     "output_type": "stream",
     "text": [
      "pick choice from the yes or no : no\n"
     ]
    },
    {
     "data": {
      "text/plain": [
       "False"
      ]
     },
     "execution_count": 9,
     "metadata": {},
     "output_type": "execute_result"
    }
   ],
   "source": [
    "gameon_choice()"
   ]
  },
  {
   "cell_type": "code",
   "execution_count": 18,
   "id": "d7227f7e-b5ea-4c5c-b95a-9bdc83c38c99",
   "metadata": {},
   "outputs": [],
   "source": [
    "from IPython.display import clear_output \n",
    "\n",
    "def display_board(board):\n",
    "\n",
    "    print(board[7]+'|'+board[8]+'|'+board[9])\n",
    "    print(board[4]+'|'+board[5]+'|'+board[6])\n",
    "    print(board[1]+'|'+board[2]+'|'+board[3])\n",
    "    "
   ]
  },
  {
   "cell_type": "code",
   "execution_count": 19,
   "id": "a6b3a230-914a-460e-9610-9a7127c911f8",
   "metadata": {},
   "outputs": [
    {
     "name": "stdout",
     "output_type": "stream",
     "text": [
      "X|O|X\n",
      "O|X|O\n",
      "X|O|X\n"
     ]
    }
   ],
   "source": [
    "test_board=['#','X','O','X','O','X','O','X','O','X']\n",
    "display_board(test_board)"
   ]
  },
  {
   "cell_type": "code",
   "execution_count": 32,
   "id": "291b8c4f-db4a-4e83-9968-179dd3153da7",
   "metadata": {},
   "outputs": [],
   "source": [
    "def player_input():\n",
    "    marker=''\n",
    "\n",
    "    while marker!='X' and marker!='O':\n",
    "        marker=input('player1,choose X OR O:')\n",
    "    player1=marker\n",
    "\n",
    "    if player1 =='x':\n",
    "        player2='O'\n",
    "    else:\n",
    "        player2='x'\n",
    "        \n",
    "\n",
    "    return (player1,player2)\n",
    "        "
   ]
  },
  {
   "cell_type": "code",
   "execution_count": null,
   "id": "9c5c21fa-d592-4070-a210-d6c4a030d7a7",
   "metadata": {},
   "outputs": [],
   "source": [
    "player_input()"
   ]
  },
  {
   "cell_type": "code",
   "execution_count": 1,
   "id": "94e07feb-e647-49db-a5e5-0b4741d08274",
   "metadata": {},
   "outputs": [
    {
     "ename": "ImportError",
     "evalue": "cannot import name 'padas' from 'random' (C:\\Users\\ASUS\\anaconda3\\Lib\\random.py)",
     "output_type": "error",
     "traceback": [
      "\u001b[1;31m---------------------------------------------------------------------------\u001b[0m",
      "\u001b[1;31mImportError\u001b[0m                               Traceback (most recent call last)",
      "Cell \u001b[1;32mIn[1], line 1\u001b[0m\n\u001b[1;32m----> 1\u001b[0m \u001b[38;5;28;01mfrom\u001b[39;00m \u001b[38;5;21;01mrandom\u001b[39;00m \u001b[38;5;28;01mimport\u001b[39;00m padas\n",
      "\u001b[1;31mImportError\u001b[0m: cannot import name 'padas' from 'random' (C:\\Users\\ASUS\\anaconda3\\Lib\\random.py)"
     ]
    }
   ],
   "source": [
    "from random import padas "
   ]
  },
  {
   "cell_type": "code",
   "execution_count": 10,
   "id": "b0b29394-15ce-4531-92d0-f2fb9d759589",
   "metadata": {},
   "outputs": [],
   "source": [
    "import random\n",
    "def choose_first():\n",
    "    \n",
    "    \n",
    "    if random.randint(0, 1) == 0:\n",
    "        return 'Player 2'\n",
    "    else:\n",
    "        return 'Player 1'\n",
    "    "
   ]
  },
  {
   "cell_type": "code",
   "execution_count": 11,
   "id": "2a0e7956-870c-4dfe-b98d-e5d25041f231",
   "metadata": {},
   "outputs": [
    {
     "data": {
      "text/plain": [
       "'Player 1'"
      ]
     },
     "execution_count": 11,
     "metadata": {},
     "output_type": "execute_result"
    }
   ],
   "source": [
    "choose_first()\n",
    "    "
   ]
  },
  {
   "cell_type": "code",
   "execution_count": null,
   "id": "0ce17e4d-4782-4fb6-af5a-0bea8488d274",
   "metadata": {},
   "outputs": [],
   "source": []
  },
  {
   "cell_type": "code",
   "execution_count": null,
   "id": "c43e14b8-9a5e-44d6-8c2d-f3a065856254",
   "metadata": {},
   "outputs": [],
   "source": []
  },
  {
   "cell_type": "code",
   "execution_count": null,
   "id": "999a9fa5-9f41-4237-a88d-bfc336af11e5",
   "metadata": {},
   "outputs": [],
   "source": []
  }
 ],
 "metadata": {
  "kernelspec": {
   "display_name": "Python 3 (ipykernel)",
   "language": "python",
   "name": "python3"
  },
  "language_info": {
   "codemirror_mode": {
    "name": "ipython",
    "version": 3
   },
   "file_extension": ".py",
   "mimetype": "text/x-python",
   "name": "python",
   "nbconvert_exporter": "python",
   "pygments_lexer": "ipython3",
   "version": "3.11.7"
  }
 },
 "nbformat": 4,
 "nbformat_minor": 5
}
